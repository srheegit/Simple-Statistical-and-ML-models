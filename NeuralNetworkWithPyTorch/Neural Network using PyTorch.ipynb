{
 "cells": [
  {
   "cell_type": "markdown",
   "id": "90b9ec89-bcbe-4751-a64e-18a84696226c",
   "metadata": {},
   "source": [
    "# Neural Network Using PyTorch\n",
    "\n",
    "Author: Sahngyoon Rhee"
   ]
  },
  {
   "cell_type": "markdown",
   "id": "8d4bd950-39b5-4a06-b988-dc32796d9f51",
   "metadata": {},
   "source": [
    "Neural Network puts together various simplier machine learning models, increasing the complexity and therefore flexibility in the final model. Its idea is derived from the way that some neuroscientists think that the nuerons in the human brain works."
   ]
  },
  {
   "cell_type": "code",
   "execution_count": 1,
   "id": "0250e1c2-9429-4e06-897c-a04b0427f28b",
   "metadata": {},
   "outputs": [
    {
     "data": {
      "text/html": [
       "\n",
       "<div style = \"display: flex; justify-content: space-around;\">\n",
       "    <img src='human_neurons.jpg' width='500' height='300'>\n",
       "    <img src='neural_network.jpg' width='400' height='300'>\n",
       "</div>\n"
      ],
      "text/plain": [
       "<IPython.core.display.HTML object>"
      ]
     },
     "metadata": {},
     "output_type": "display_data"
    }
   ],
   "source": [
    "from IPython.display import Image, HTML\n",
    "display(HTML(\"\"\"\n",
    "<div style = \"display: flex; justify-content: space-around;\">\n",
    "    <img src='human_neurons.jpg' width='500' height='300'>\n",
    "    <img src='neural_network.jpg' width='400' height='300'>\n",
    "</div>\n",
    "\"\"\"))"
   ]
  },
  {
   "cell_type": "markdown",
   "id": "f99955bc-4afa-4ca1-b6fa-06c8967b3ff7",
   "metadata": {},
   "source": [
    "The goal of this notebook is not to explain the nitty gritty details of how a neural network works. That would involve explaining the forward propagation, backward propagation, gradient descent, activation functions, hidden layers, etc. and you can find the information easily online.\n",
    "\n",
    "The goal of this notebook is to demonstrate how to build a simple neural network using PyTorch, which along with Tensorflow is one of the most popular deep learning frameworks in Python.\n",
    "\n",
    "The following code is from PyTorch's starter guide, and it uses the `FashionMNIST` dataset."
   ]
  },
  {
   "cell_type": "markdown",
   "id": "08c46fb3-15f1-4309-8527-5f92be70ca9b",
   "metadata": {},
   "source": [
    "## Preparing data for training\n",
    "\n",
    "We first import the necessary packages and our data. We then use the `Dataset` under `torch.utils.data` - `Dataset` retrives our dataset's features and labels one sample at a time. Later, we shall use `DataLoader` to wrap the `Dataset` as iterable and in batches. We shall later pass sample in minibatches, reshuffling the data at every epoch to reduce model overfitting, and us Python's `multiprocessing` to retrieve our data faster."
   ]
  },
  {
   "cell_type": "code",
   "execution_count": 2,
   "id": "7e950d30-7d5c-4bda-928e-886a45af17b8",
   "metadata": {},
   "outputs": [],
   "source": [
    "# uncomment the following line if you don't have PyTorch installed yet\n",
    "# it'll take a couple minutes to finish install\n",
    "# !pip install torch torchvision torchaudio"
   ]
  },
  {
   "cell_type": "code",
   "execution_count": 3,
   "id": "78a1789a-31ec-455e-b974-a558838a5db7",
   "metadata": {},
   "outputs": [],
   "source": [
    "import torch\n",
    "from torch.utils.data import Dataset\n",
    "from torchvision import datasets\n",
    "from torchvision.transforms import ToTensor\n",
    "import matplotlib.pyplot as plt\n",
    "\n",
    "training_data = datasets.FashionMNIST(\n",
    "    root='data', # path where the train/test data is stored\n",
    "    train=True, # if False, it means that the dataset is test dataset\n",
    "    download=True, # downloads the data from the internet if it's not available at `root`\n",
    "    transform=ToTensor() # specify the feature transformations\n",
    ")\n",
    "\n",
    "test_data = datasets.FashionMNIST(\n",
    "    root = 'data',\n",
    "    train = False,\n",
    "    download = True,\n",
    "    transform = ToTensor()\n",
    ")"
   ]
  },
  {
   "cell_type": "markdown",
   "id": "618f4fb3-273f-4c24-bdd5-2bb3b29d7a09",
   "metadata": {},
   "source": [
    "Now that we have loaded our data, we shall wrap them as iterables using `DataLoader`. Notice that the `s` in `torch.utils.data.Dataset` is in small case while the `L` in `DataLoader` is capitalized."
   ]
  },
  {
   "cell_type": "code",
   "execution_count": 4,
   "id": "397f5dca-1108-437f-a180-a1de256f9c51",
   "metadata": {},
   "outputs": [],
   "source": [
    "from torch.utils.data import DataLoader\n",
    "\n",
    "train_dataloader = DataLoader(training_data, batch_size = 64, shuffle = True)\n",
    "test_dataloader = DataLoader(test_data, batch_size = 64, shuffle = True)"
   ]
  },
  {
   "cell_type": "markdown",
   "id": "d29ba79d-a978-429a-8974-8822da77da28",
   "metadata": {},
   "source": [
    "We can now iterate through the DataLoader object."
   ]
  },
  {
   "cell_type": "code",
   "execution_count": 5,
   "id": "69152322-c77b-42bf-a61d-9b1745a7a4af",
   "metadata": {},
   "outputs": [
    {
     "name": "stdout",
     "output_type": "stream",
     "text": [
      "We shall visualize a sample image. Notice that the batches reshuffle afterall batches have been iterated through. \n",
      "\n",
      "Feature batch shape: torch.Size([64, 1, 28, 28])\n",
      "Label batch shape: torch.Size([64])\n"
     ]
    },
    {
     "data": {
      "image/png": "[encoded data removed]",
      "text/plain": [
       "<Figure size 640x480 with 1 Axes>"
      ]
     },
     "metadata": {},
     "output_type": "display_data"
    },
    {
     "name": "stdout",
     "output_type": "stream",
     "text": [
      "Label: Ankle Boot\n"
     ]
    }
   ],
   "source": [
    "# get the names for each label\n",
    "labels_map = {\n",
    "    0: \"T-Shirt\",\n",
    "    1: \"Trouser\",\n",
    "    2: \"Pullover\",\n",
    "    3: \"Dress\",\n",
    "    4: \"Coat\",\n",
    "    5: \"Sandal\",\n",
    "    6: \"Shirt\",\n",
    "    7: \"Sneaker\",\n",
    "    8: \"Bag\",\n",
    "    9: \"Ankle Boot\",\n",
    "}\n",
    "\n",
    "# Display a sample image and label\n",
    "print(f'We shall visualize a sample image. Notice that the batches reshuffle after\\\n",
    "all batches have been iterated through. \\n')\n",
    "train_features, train_labels = next(iter(train_dataloader))\n",
    "print(f'Feature batch shape: {train_features.size()}')\n",
    "print(f'Label batch shape: {train_labels.size()}')\n",
    "img = train_features[0].squeeze()\n",
    "label = train_labels[0].item()\n",
    "plt.imshow(img, cmap='gray')\n",
    "plt.title('Random Image')\n",
    "plt.show()\n",
    "print(f'Label: {labels_map[label]}')"
   ]
  },
  {
   "cell_type": "markdown",
   "id": "c53e4f76-5560-42cb-80c4-a639e5ab9864",
   "metadata": {},
   "source": [
    "As we have seen, we can index `Datasets` much like we access an item in an array: `training_data[index]`. We shall visualize more of our dataset using `matplotlib`."
   ]
  },
  {
   "cell_type": "code",
   "execution_count": 6,
   "id": "c1299e67-e609-42e0-b010-51446fae2769",
   "metadata": {},
   "outputs": [
    {
     "data": {
      "image/png": "[encoded data removed]",
      "text/plain": [
       "<Figure size 800x800 with 9 Axes>"
      ]
     },
     "metadata": {},
     "output_type": "display_data"
    }
   ],
   "source": [
    "figure = plt.figure(figsize=(8,8))\n",
    "cols, rows = 3, 3\n",
    "for i in range(1, cols*rows + 1):\n",
    "    sample_idx = torch.randint(len(training_data), size=(1,)).item() # get a random integer as an index. .item() method extracts the value of a single entry\n",
    "    img, label = training_data[sample_idx]\n",
    "    figure.add_subplot(cols, rows, i) # add subplots\n",
    "    plt.title(labels_map[label])\n",
    "    plt.axis('off')\n",
    "    plt.imshow(img.squeeze(), cmap='gray') # .squeeze() method removes any dimensions of size 1\n"
   ]
  },
  {
   "cell_type": "markdown",
   "id": "1fc6f81c-07a5-4df2-8ba4-621c06f65fa2",
   "metadata": {},
   "source": [
    "## Transforming (Data Preprocessing)\n",
    "\n",
    "We want to train a neural network for classifying the FashionMNIST images. But before we do that, we want to make some minor adjustments to our data so that it will be in a form acceptable for training. This doesn't change the information that we have in the data, but is necessary for us to be able to pass the data into a model for training."
   ]
  },
  {
   "cell_type": "code",
   "execution_count": 7,
   "id": "861a9d14-61f5-4134-bcae-0fcb5fb1a7d1",
   "metadata": {},
   "outputs": [],
   "source": [
    "from torchvision.transforms import ToTensor, Lambda\n",
    "\n",
    "ds = datasets.FashionMNIST(\n",
    "    root = 'data',\n",
    "    train = True,\n",
    "    download = True,\n",
    "    target_transform = Lambda(lambda y:\n",
    "                              torch.zeros(10, dtype = torch.float).scatter_(0, torch.tensor(y), value = 1))\n",
    ")"
   ]
  },
  {
   "cell_type": "markdown",
   "id": "62e09134-b014-488f-ba89-d2d367afb0b7",
   "metadata": {},
   "source": [
    "## Building the Model\n",
    "\n",
    "Now we are ready to build our nueral network model. In PyTorch, every neural network subclasses from torch.nn.Module, and is required to have `__init__` and `forward`."
   ]
  },
  {
   "cell_type": "markdown",
   "id": "ab9add21-f052-4b61-8716-81ae04d603c3",
   "metadata": {},
   "source": [
    "But before we do that, it helps to have a good hardware to speed up our training time. The following selects a fancy hardware so that, in case we do have any at hand, we can use them. If you don't know what MPS or GPU is, don't worry about what the following code is doing. It is simply picking a good device at our hand."
   ]
  },
  {
   "cell_type": "code",
   "execution_count": 8,
   "id": "31694533-139e-4ce9-94d9-6600f3af7f71",
   "metadata": {},
   "outputs": [
    {
     "name": "stdout",
     "output_type": "stream",
     "text": [
      "Using cpu device\n"
     ]
    }
   ],
   "source": [
    "device = ('cuda' if torch.cuda.is_available()\n",
    "          else\n",
    "          'mps' if torch.backends.mps.is_available()\n",
    "          else\n",
    "          'cpu'\n",
    "         )\n",
    "\n",
    "print(f'Using {device} device')"
   ]
  },
  {
   "cell_type": "markdown",
   "id": "7a935cf6-e5e0-485f-bfcf-37b6f262f395",
   "metadata": {},
   "source": [
    "Now we build our model."
   ]
  },
  {
   "cell_type": "code",
   "execution_count": 9,
   "id": "1735d147-445f-486a-9ce0-003b7d6c2a7b",
   "metadata": {},
   "outputs": [],
   "source": [
    "from torch import nn\n",
    "\n",
    "class NeuralNetwork(nn.Module):\n",
    "    def __init__(self):\n",
    "        super().__init__()\n",
    "        self.flatten = nn.Flatten()\n",
    "        self.linear_relu_stack = nn.Sequential(\n",
    "                    nn.Linear(28*28, 512), # The expected input for our neural network is 28*28 = 784\n",
    "                    nn.ReLU(),\n",
    "                    nn.Linear(512, 512),\n",
    "                    nn.ReLU(),\n",
    "                    nn.Linear(512, 10),\n",
    "        )\n",
    "    def forward(self, x):\n",
    "        x = self.flatten(x)\n",
    "        logits = self.linear_relu_stack(x)\n",
    "        return logits"
   ]
  },
  {
   "cell_type": "markdown",
   "id": "65946fa5-a0b4-4407-9f97-a395bbb6edb1",
   "metadata": {},
   "source": [
    "The neural network we created is a fully connected neural network that has the dimension of the input vector as `28*28 = 784`. Its first hidden layer has the output vector dimension as 512, applies the ReLU function. The output vector from the first layer gets passed onto the second layer, whose output vector has dimension 512 also. We apply the ReLU function again to the output of the second hidden layer, and the third layer takes that and outputs a vector of dimension 10. When we input a 28 by 28 image, it first gets flattened by `nn.Flatten()` to be transformed into a vector of size 784, and then gets passed through the layers.\n",
    "\n",
    "We now create an instance of `NeuralNetwork` and move it to the `device` that we have, and print its structure."
   ]
  },
  {
   "cell_type": "code",
   "execution_count": 10,
   "id": "e4f3d8d4-b676-4208-bcd4-9c5bd2d2b6c1",
   "metadata": {},
   "outputs": [
    {
     "name": "stdout",
     "output_type": "stream",
     "text": [
      "NeuralNetwork(\n",
      "  (flatten): Flatten(start_dim=1, end_dim=-1)\n",
      "  (linear_relu_stack): Sequential(\n",
      "    (0): Linear(in_features=784, out_features=512, bias=True)\n",
      "    (1): ReLU()\n",
      "    (2): Linear(in_features=512, out_features=512, bias=True)\n",
      "    (3): ReLU()\n",
      "    (4): Linear(in_features=512, out_features=10, bias=True)\n",
      "  )\n",
      ")\n"
     ]
    }
   ],
   "source": [
    "model = NeuralNetwork().to(device)\n",
    "print(model)"
   ]
  },
  {
   "cell_type": "markdown",
   "id": "1295d45e-bdf5-42b3-87da-429b9e781f66",
   "metadata": {},
   "source": [
    "To use the model, we pass it the input data. This will execute the mode's `forward` method, along with some background operations. We do not call `model.forward()` directly.\n",
    "\n",
    "Calling the model on an input returns a 2D tensor with rows as individual images and columns as individual raw predicted values. For example:"
   ]
  },
  {
   "cell_type": "code",
   "execution_count": 11,
   "id": "078f8d9f-e615-4137-bdf1-d444b311f051",
   "metadata": {},
   "outputs": [
    {
     "name": "stdout",
     "output_type": "stream",
     "text": [
      "tensor([[-0.0908,  0.0070, -0.1127, -0.1024,  0.1180,  0.0823,  0.0275,  0.0201,\n",
      "          0.0221,  0.0119],\n",
      "        [-0.0589,  0.0512, -0.0722, -0.1110,  0.0510,  0.0715,  0.0578,  0.0540,\n",
      "          0.0155,  0.0237],\n",
      "        [-0.0393,  0.0132, -0.0749, -0.0476,  0.0681,  0.0777,  0.0447,  0.0133,\n",
      "          0.0081,  0.0680]], grad_fn=<AddmmBackward0>)\n"
     ]
    }
   ],
   "source": [
    "X = torch.rand(3, 28, 28, device = device)\n",
    "logits = model(X)\n",
    "print(logits)"
   ]
  },
  {
   "cell_type": "markdown",
   "id": "8ac362c9-2900-4200-84b1-07d75daf8fa6",
   "metadata": {},
   "source": [
    "As you can see, the fianl output is not a probability, since if they were, the second row (for example) would add up to 1, which is not the case (each entry in the 10 columns in the second rows are mostly less than 0.1). In theory, the output of the `nn.Linear(512,10)` layer can be any real number, but since we have pre-applied the `ToTensor` method as `target_transform` in the training set, the raw output `logits` above will typically have small values.\n",
    "\n",
    "We now pass the prediction through an instance of the `nn.Softmax` module."
   ]
  },
  {
   "cell_type": "code",
   "execution_count": 12,
   "id": "6f1161a9-66b5-4dbf-8c53-35e24975caa8",
   "metadata": {},
   "outputs": [
    {
     "name": "stdout",
     "output_type": "stream",
     "text": [
      "tensor([[0.0912, 0.1006, 0.0893, 0.0902, 0.1124, 0.1085, 0.1027, 0.1019, 0.1021,\n",
      "         0.1011],\n",
      "        [0.0933, 0.1042, 0.0921, 0.0886, 0.1042, 0.1063, 0.1049, 0.1045, 0.1005,\n",
      "         0.1014],\n",
      "        [0.0948, 0.0999, 0.0915, 0.0940, 0.1055, 0.1065, 0.1031, 0.0999, 0.0994,\n",
      "         0.1055]], grad_fn=<SoftmaxBackward0>)\n",
      "tensor([4, 5, 5])\n"
     ]
    }
   ],
   "source": [
    "softmax = nn.Softmax(dim=1) # dim=1 means that the softmax function will be applied along the second dimension, so that the sum of entries in each row will be 1\n",
    "pred_probs = softmax(logits)\n",
    "print(pred_probs)\n",
    "y_pred = pred_probs.argmax(1)\n",
    "print(y_pred)"
   ]
  },
  {
   "cell_type": "markdown",
   "id": "0b97c900-2897-4d92-bb71-1c895a45fb9a",
   "metadata": {},
   "source": [
    "### Optional: What each layers are doing\n",
    "\n",
    "We take a closer look at what each layers are doing. You can also look these up in the PyTorch website, but we here give a brief demonstrations."
   ]
  },
  {
   "cell_type": "code",
   "execution_count": 13,
   "id": "469a7e84-f37c-4914-b870-3f1b1583c459",
   "metadata": {},
   "outputs": [
    {
     "name": "stdout",
     "output_type": "stream",
     "text": [
      "The original input size is: torch.Size([3, 28, 28])\n",
      "The size of the tensor after applying nn.Flatten() is: torch.Size([3, 784])\n"
     ]
    }
   ],
   "source": [
    "# sample tensor we'll be using\n",
    "input_image = torch.rand(3, 28, 28)\n",
    "print(f'The original input size is: {input_image.size()}')\n",
    "\n",
    "# nn.Flatten\n",
    "flatten = nn.Flatten()\n",
    "flat_image = flatten(input_image)\n",
    "print(f'The size of the tensor after applying nn.Flatten() is: {flat_image.size()}')"
   ]
  },
  {
   "cell_type": "markdown",
   "id": "997ec935-9570-4703-a62b-05e5224a2cdc",
   "metadata": {},
   "source": [
    "Notice that `nn.Flatten(input_image)` would give us an error. Instead, it's `nn.Flatten()(input_image)`."
   ]
  },
  {
   "cell_type": "code",
   "execution_count": 14,
   "id": "71940e3e-a512-4326-8d14-17e660aaafe7",
   "metadata": {},
   "outputs": [
    {
     "name": "stdout",
     "output_type": "stream",
     "text": [
      "Size of the tensor after applying nn.Linear is: torch.Size([3, 20])\n"
     ]
    }
   ],
   "source": [
    "# nn.Linear. The following is the same as nn.Linear(28*28, 20)\n",
    "layer1 = nn.Linear(in_features = 28*28, out_features = 20)\n",
    "hidden1 = layer1(flat_image)\n",
    "print(f'Size of the tensor after applying nn.Linear is: {hidden1.size()}')"
   ]
  },
  {
   "cell_type": "code",
   "execution_count": 15,
   "id": "6d3db873-1882-481a-bfec-ae53e786a49c",
   "metadata": {},
   "outputs": [
    {
     "name": "stdout",
     "output_type": "stream",
     "text": [
      "Before ReLU: tensor([[ 0.1870, -0.9514,  0.1243, -0.3497, -0.3728, -0.3635,  0.2170,  0.1377,\n",
      "         -0.3104,  0.3393, -0.0541, -0.0610,  0.1358, -0.2247,  0.0365,  0.2554,\n",
      "         -0.3283,  0.3719, -0.0969, -0.3449],\n",
      "        [ 0.0407, -0.5282,  0.5733, -0.6004, -0.5366, -0.1322,  0.2875, -0.0194,\n",
      "         -0.3333,  0.3306,  0.0414, -0.3533,  0.1580, -0.3714,  0.1039,  0.5302,\n",
      "         -0.1556,  0.6729,  0.1281,  0.1704],\n",
      "        [-0.1360, -0.3615, -0.0258, -0.0758, -0.6151, -0.3228,  0.6404,  0.0452,\n",
      "         -0.6077,  0.2047, -0.2270, -0.4152,  0.1567, -0.2534, -0.1479,  0.6098,\n",
      "         -0.0227,  0.3462,  0.0735,  0.0626]], grad_fn=<AddmmBackward0>)\n",
      "\n",
      "\n",
      "After ReLU: tensor([[0.1870, 0.0000, 0.1243, 0.0000, 0.0000, 0.0000, 0.2170, 0.1377, 0.0000,\n",
      "         0.3393, 0.0000, 0.0000, 0.1358, 0.0000, 0.0365, 0.2554, 0.0000, 0.3719,\n",
      "         0.0000, 0.0000],\n",
      "        [0.0407, 0.0000, 0.5733, 0.0000, 0.0000, 0.0000, 0.2875, 0.0000, 0.0000,\n",
      "         0.3306, 0.0414, 0.0000, 0.1580, 0.0000, 0.1039, 0.5302, 0.0000, 0.6729,\n",
      "         0.1281, 0.1704],\n",
      "        [0.0000, 0.0000, 0.0000, 0.0000, 0.0000, 0.0000, 0.6404, 0.0452, 0.0000,\n",
      "         0.2047, 0.0000, 0.0000, 0.1567, 0.0000, 0.0000, 0.6098, 0.0000, 0.3462,\n",
      "         0.0735, 0.0626]], grad_fn=<ReluBackward0>)\n"
     ]
    }
   ],
   "source": [
    "# nn.ReLU()\n",
    "print(f\"Before ReLU: {hidden1}\\n\\n\")\n",
    "hidden1 = nn.ReLU()(hidden1)\n",
    "print(f\"After ReLU: {hidden1}\")"
   ]
  },
  {
   "cell_type": "markdown",
   "id": "4b4e36b3-f658-4684-8476-2f186201640a",
   "metadata": {},
   "source": [
    "`nn.Sequential` is an ordered container of modules. The data is passed through all the modules in the same order as defined."
   ]
  },
  {
   "cell_type": "code",
   "execution_count": 16,
   "id": "e195df9c-909b-4111-8946-604fb3a5228d",
   "metadata": {},
   "outputs": [
    {
     "name": "stdout",
     "output_type": "stream",
     "text": [
      "tensor([[ 0.1708, -0.0255,  0.0236,  0.0456, -0.1212,  0.3107, -0.4031,  0.3220,\n",
      "          0.0032, -0.2503],\n",
      "        [ 0.1525, -0.0521,  0.0477,  0.1656, -0.2837,  0.2982, -0.3829,  0.3728,\n",
      "          0.0026, -0.2522],\n",
      "        [ 0.1415, -0.0459,  0.1343,  0.0582, -0.0784,  0.2500, -0.4585,  0.3217,\n",
      "          0.0725, -0.2251]], grad_fn=<AddmmBackward0>)\n"
     ]
    }
   ],
   "source": [
    "seq_modules = nn.Sequential(\n",
    "    flatten,\n",
    "    layer1,\n",
    "    nn.ReLU(),\n",
    "    nn.Linear(20,10)\n",
    ")\n",
    "input_image = torch.rand(3,28, 28)\n",
    "logits = seq_modules(input_image)\n",
    "print(logits)"
   ]
  },
  {
   "cell_type": "markdown",
   "id": "23f96c05-2924-4a03-8b04-22a8026be831",
   "metadata": {},
   "source": [
    "According to PyTorch guide: \"The last linear layer of the neural network returns logits - raw values in $[-\\infty, +\\infty]$ - which are passed to the nn.Softmax module. The logits are scaled to values $[0,1]$ representing the model’s predicted probabilities for each class. dim parameter indicates the dimension along which the values must sum to 1.\""
   ]
  },
  {
   "cell_type": "code",
   "execution_count": 17,
   "id": "31aba315-71e0-48f8-87ad-380bc794eccd",
   "metadata": {},
   "outputs": [],
   "source": [
    "softmax = nn.Softmax(dim = 1)\n",
    "pred_probab = softmax(logits)"
   ]
  },
  {
   "cell_type": "markdown",
   "id": "7efb73c3-bc2b-4518-a3ea-2f1a7a51d1fe",
   "metadata": {},
   "source": [
    "### Model parameters\n",
    "\n",
    "If you know the theory behind a neural network, you know that there are parameters involved for each layer of our neural network. Subclassing `nn.Module` automatically tracks all field defined inside our model object and we can access all parameters using `parameters()` or `named_parameters()` methods.\n",
    "\n",
    "We shall interate over each parameter and print its size and its values."
   ]
  },
  {
   "cell_type": "code",
   "execution_count": 18,
   "id": "380d5dec-f7f7-4ca4-9418-31c241f55420",
   "metadata": {},
   "outputs": [
    {
     "name": "stdout",
     "output_type": "stream",
     "text": [
      "Model structure: NeuralNetwork(\n",
      "  (flatten): Flatten(start_dim=1, end_dim=-1)\n",
      "  (linear_relu_stack): Sequential(\n",
      "    (0): Linear(in_features=784, out_features=512, bias=True)\n",
      "    (1): ReLU()\n",
      "    (2): Linear(in_features=512, out_features=512, bias=True)\n",
      "    (3): ReLU()\n",
      "    (4): Linear(in_features=512, out_features=10, bias=True)\n",
      "  )\n",
      ")\n",
      "\n",
      "\n",
      "Layer: linear_relu_stack.0.weight | Size: torch.Size([512, 784]) | Values: tensor([[ 0.0029, -0.0161,  0.0186,  ..., -0.0090,  0.0330,  0.0091],\n",
      "        [ 0.0311, -0.0067,  0.0135,  ...,  0.0307,  0.0290, -0.0293]],\n",
      "       grad_fn=<SliceBackward0>) \n",
      "\n",
      "Layer: linear_relu_stack.0.bias | Size: torch.Size([512]) | Values: tensor([0.0061, 0.0223], grad_fn=<SliceBackward0>) \n",
      "\n",
      "Layer: linear_relu_stack.2.weight | Size: torch.Size([512, 512]) | Values: tensor([[ 0.0240, -0.0327, -0.0384,  ...,  0.0054, -0.0282, -0.0338],\n",
      "        [ 0.0440,  0.0285, -0.0212,  ..., -0.0150, -0.0198, -0.0066]],\n",
      "       grad_fn=<SliceBackward0>) \n",
      "\n",
      "Layer: linear_relu_stack.2.bias | Size: torch.Size([512]) | Values: tensor([-0.0398, -0.0383], grad_fn=<SliceBackward0>) \n",
      "\n",
      "Layer: linear_relu_stack.4.weight | Size: torch.Size([10, 512]) | Values: tensor([[-0.0034, -0.0121, -0.0324,  ...,  0.0378, -0.0364, -0.0273],\n",
      "        [-0.0087,  0.0181,  0.0002,  ...,  0.0176, -0.0280, -0.0386]],\n",
      "       grad_fn=<SliceBackward0>) \n",
      "\n",
      "Layer: linear_relu_stack.4.bias | Size: torch.Size([10]) | Values: tensor([-0.0244,  0.0186], grad_fn=<SliceBackward0>) \n",
      "\n"
     ]
    }
   ],
   "source": [
    "print(f'Model structure: {model}\\n\\n')\n",
    "\n",
    "for name, param in model.named_parameters():\n",
    "    print(f'Layer: {name} | Size: {param.size()} | Values: {param[:2]} \\n')"
   ]
  },
  {
   "cell_type": "markdown",
   "id": "0b1c8292-483a-40db-8640-b80c94c05976",
   "metadata": {},
   "source": [
    "## Backpropagation\n",
    "\n",
    "In order to do gradient descent, we implement the backpropagation algorithm which is just chain rule in calculating the derivative. To compute the gradients, we use the PyTorch's built-in differentiation engine called `torch.autograd`. We first take a look at a simple case."
   ]
  },
  {
   "cell_type": "code",
   "execution_count": 19,
   "id": "4571ae2f-615d-4d0e-9a48-10fac6e66f45",
   "metadata": {},
   "outputs": [],
   "source": [
    "x = torch.ones(5)\n",
    "y = torch.zeros(3)\n",
    "w = torch.randn(5, 3, requires_grad = True)\n",
    "b = torch.randn(3, requires_grad = True)\n",
    "z = torch.matmul(x, w) + b\n",
    "loss = torch.nn.functional.binary_cross_entropy_with_logits(z,y)"
   ]
  },
  {
   "cell_type": "markdown",
   "id": "dfba3359-80e7-4c1b-85ac-d2ee1fdaef05",
   "metadata": {},
   "source": [
    "Here, the `requires_grad = True` tells PyTorch that we are going to differentiate the loss function with respect to those variables.\n",
    "\n",
    "According to PyTorch guide, \"a function that we apply to tensors to construct computational graph is in fact an object of class `Function`. This object knows how to compute the function in the *forward* direction ... as well as the *backward* direction, e.g. backpropagation. A reference to the backward propagation function is stored in `grad_fn` property of a tensor.\""
   ]
  },
  {
   "cell_type": "code",
   "execution_count": 20,
   "id": "06a240a7-9227-421a-baed-585d53246559",
   "metadata": {},
   "outputs": [
    {
     "name": "stdout",
     "output_type": "stream",
     "text": [
      "Gradient function for z = <AddBackward0 object at 0x0000019552FF53F0>\n",
      "Gradient function for loss = <BinaryCrossEntropyWithLogitsBackward0 object at 0x0000019552FF5390>\n"
     ]
    }
   ],
   "source": [
    "print(f\"Gradient function for z = {z.grad_fn}\")\n",
    "print(f\"Gradient function for loss = {loss.grad_fn}\")"
   ]
  },
  {
   "cell_type": "markdown",
   "id": "47efeffd-b37b-4078-8ba5-2fff7ed373bf",
   "metadata": {},
   "source": [
    "Now we computer the derivative with respect to the variables for which we have `requres_grad = True`, i.e. we compute $\\frac{\\partial L}{\\partial w}$ and $\\frac{\\partial L}{\\partial b}$ where $L$ is `loss`."
   ]
  },
  {
   "cell_type": "code",
   "execution_count": 21,
   "id": "6af359da-4816-4ca8-bff2-a88856c8fb61",
   "metadata": {},
   "outputs": [
    {
     "name": "stdout",
     "output_type": "stream",
     "text": [
      "tensor([[0.2803, 0.0461, 0.0003],\n",
      "        [0.2803, 0.0461, 0.0003],\n",
      "        [0.2803, 0.0461, 0.0003],\n",
      "        [0.2803, 0.0461, 0.0003],\n",
      "        [0.2803, 0.0461, 0.0003]])\n",
      "tensor([0.2803, 0.0461, 0.0003])\n"
     ]
    }
   ],
   "source": [
    "loss.backward()\n",
    "print(w.grad)\n",
    "print(b.grad)"
   ]
  },
  {
   "cell_type": "markdown",
   "id": "11627213-da27-4b77-85f5-1defa740b318",
   "metadata": {},
   "source": [
    "### Disabling Gradient Tracking\n",
    "\n",
    "From PyTorch documentation: \"by default, all tensors with `requires_grad = True` are tracking their computational history and support gradient computation.\" However, there are cases when we don't want to track that, e.g. when we have already trained the model and we just want to run a vector through the forward loop. Another situation when we don't want to track the gradients is when we want to make some parameters in a neural network as *forzen parameters*, e.g. when we are doing transfer learning. We also speed up computations when we are doing forward pass without gradient tracking. \n",
    "\n",
    "we can stop tracking by writing `with torch.no_grad(): ...`."
   ]
  },
  {
   "cell_type": "code",
   "execution_count": 22,
   "id": "3a6d5566-817b-4b9d-b4a6-b9bb3b938ab2",
   "metadata": {},
   "outputs": [
    {
     "name": "stdout",
     "output_type": "stream",
     "text": [
      "True\n",
      "False\n"
     ]
    }
   ],
   "source": [
    "z = torch.matmul(x, w) + b\n",
    "print(z.requires_grad)\n",
    "\n",
    "with torch.no_grad():\n",
    "    z = torch.matmul(x,w) + b\n",
    "print(z.requires_grad)"
   ]
  },
  {
   "cell_type": "markdown",
   "id": "f94c9f59-4365-4a93-b7bc-d1c8c45956bf",
   "metadata": {},
   "source": [
    "We can also write `z.detach()` to do the same thing, as follows:"
   ]
  },
  {
   "cell_type": "code",
   "execution_count": 23,
   "id": "fa63eb05-1d8c-40da-95d8-eb2046c086e2",
   "metadata": {},
   "outputs": [
    {
     "name": "stdout",
     "output_type": "stream",
     "text": [
      "False\n"
     ]
    }
   ],
   "source": [
    "z = torch.matmul(x,w) + b\n",
    "z_det = z.detach()\n",
    "print(z_det.requires_grad)"
   ]
  },
  {
   "cell_type": "markdown",
   "id": "a5c12a6a-54bf-435b-9768-d0492c761fea",
   "metadata": {},
   "source": [
    "## Optimizing Model Parameters\n",
    "\n",
    "We are now ready to train our data, using a selected optimizer."
   ]
  },
  {
   "cell_type": "code",
   "execution_count": 24,
   "id": "77e640fa-70c6-4f49-85ea-16684f2ba481",
   "metadata": {},
   "outputs": [],
   "source": [
    "# set hyperparameters\n",
    "learning_rate = 1e-3\n",
    "batch_size = 64\n",
    "epochs = 10"
   ]
  },
  {
   "cell_type": "code",
   "execution_count": 25,
   "id": "f4446efe-b371-483e-b44b-8dc2dc591c05",
   "metadata": {},
   "outputs": [],
   "source": [
    "learning_rate = 1e-3\n",
    "batch_size = 64\n",
    "epochs = 10"
   ]
  },
  {
   "cell_type": "markdown",
   "id": "baa1e435-1955-4bdd-a569-4a008321ae04",
   "metadata": {},
   "source": [
    "We pick an optimizer in `torch.optim`. we then traing the model. According to PyTorch guide:\n",
    "\n",
    "\"Inside the training loop, optimization happens in three steps:\n",
    "\n",
    "- Call `optimizer.zero_grad()` to reset the gradeitns of model parameters. Gradients by default add up; to prevent double-counting, we explicitly zero them at each iteration.\n",
    "- Backpropagate the prediction loss with a call to `loss.backward()`. PyTorch deposits the gradients of the loss with respect to each parameter.\n",
    "- Once we have our gradients, we call `optimizer.step()` to adjust the parameters by the gradients collected in the backward pass.\"\n",
    "\n",
    "Below is the full implementation. We frist define a method `train_loop` that loops over our optimization code, and another moethod `test_loop` that evaluates how well our model is performing against our test data."
   ]
  },
  {
   "cell_type": "code",
   "execution_count": 26,
   "id": "a1cad2e7-05ee-41d5-b5a6-3c689527adba",
   "metadata": {},
   "outputs": [],
   "source": [
    "def train_loop(dataloader, model, loss_fn, optimizer):\n",
    "    # number of training examples\n",
    "    size = len(dataloader.dataset)\n",
    "    print(f\"size: {size}\")\n",
    "    # Set the model to training mode - this is important for batch normalization and dropout layers\n",
    "    # unncessary in this situation but added for best practices\n",
    "    model.train()\n",
    "    for batch_num, (X, y) in enumerate(dataloader):\n",
    "        # make a prediction and compute the loss\n",
    "        pred = model(X)\n",
    "        loss = loss_fn(pred, y)\n",
    "\n",
    "        # backpropagation\n",
    "        loss.backward()\n",
    "        optimizer.step()\n",
    "        optimizer.zero_grad()\n",
    "\n",
    "        # For every 100 batches, print the loss and the number of total data that's been processed so far after the end of the batch\n",
    "        if batch_num % 100 == 0:\n",
    "            loss = loss.item()\n",
    "            current = batch_num*batch_size + len(X)\n",
    "            print(f\"loss: {loss:>7f} [ Processed {current:>5d} images out of the total {size:>5d} images ]\")\n",
    "\n",
    "def test_loop(dataloader, model, loss_fn):\n",
    "    # set the model to evaluation mode - this is important for batch normalization and dropout layers\n",
    "    # unncessary in this situation vbut added for best practices\n",
    "    model.eval()\n",
    "    # size of the test examples\n",
    "    size = len(dataloader.dataset)\n",
    "    num_batches = len(dataloader)\n",
    "    # initialize the test loss function value and the number of correct guesses\n",
    "    test_loss, correct = 0, 0\n",
    "\n",
    "    # evaluate the model with torch.no_rad() is important since it ensures that no gradients are computed during test mode\n",
    "    # also reduces unnecessary gradient computations and memory usages\n",
    "    with torch.no_grad():\n",
    "        for X, y in dataloader:\n",
    "            # make predictions for the current batch\n",
    "            pred = model(X)\n",
    "            # add the test loss for our current batch to test_loss; we will take an average of the test loss later\n",
    "            test_loss += loss_fn(pred, y).item()\n",
    "            # add the number of correct arguments to the variable `correct`.\n",
    "            # more specifically, pred.argmax(1) returns the column number (from 0 to 9) of the max number in each row so that the output dim is 1,\n",
    "            # checks for each entry of the pred.argmax(1) whether that's the correct prediction, getting us a tensor with True or False entry.\n",
    "            # we then convert that into a numeric (torch.float), so that `True` entries become 1 and `False` entries become 0.\n",
    "            # we then sum all the 1s, getting us a tensor with a single entry that effectively captures the number of correct predictions.\n",
    "            # finally, we get the item in that tensor, and add that value to `correct` variable.\n",
    "            correct += (pred.argmax(1) == y).type(torch.float).sum().item()\n",
    "\n",
    "    # compute the average test loss and accuracy. \n",
    "    # Notice that test_loss is divided by the total number of batches and not by the total number of test examples, since each loss_fn(pred, y) that we added to test_loss already is an average of a single batch\n",
    "    test_loss /= num_batches\n",
    "    correct /= size\n",
    "    print(f\"Test Error: \\n Accuracy: {(100*correct):>0.1f}%, Avg loss: {test_loss:>8} \\n\")"
   ]
  },
  {
   "cell_type": "markdown",
   "id": "52478a97-f197-42b7-8f47-852947955544",
   "metadata": {},
   "source": [
    "We now initialize the loss function and optimizer, then passing it to `train_loop` and `test_loop` methods."
   ]
  },
  {
   "cell_type": "code",
   "execution_count": 27,
   "id": "50d9fcd0-c95c-4d0c-812a-2970ff64b5a9",
   "metadata": {},
   "outputs": [
    {
     "name": "stdout",
     "output_type": "stream",
     "text": [
      "Epoch 1\n",
      "-------------------------------------\n",
      "size: 60000\n",
      "loss: 2.319693 [ Processed    64 images out of the total 60000 images ]\n",
      "loss: 2.293995 [ Processed  6464 images out of the total 60000 images ]\n",
      "loss: 2.285071 [ Processed 12864 images out of the total 60000 images ]\n",
      "loss: 2.274010 [ Processed 19264 images out of the total 60000 images ]\n",
      "loss: 2.250558 [ Processed 25664 images out of the total 60000 images ]\n",
      "loss: 2.229628 [ Processed 32064 images out of the total 60000 images ]\n",
      "loss: 2.226355 [ Processed 38464 images out of the total 60000 images ]\n",
      "loss: 2.210713 [ Processed 44864 images out of the total 60000 images ]\n",
      "loss: 2.187650 [ Processed 51264 images out of the total 60000 images ]\n",
      "loss: 2.185826 [ Processed 57664 images out of the total 60000 images ]\n",
      "Test Error: \n",
      " Accuracy: 45.8%, Avg loss: 2.1607079490734513 \n",
      "\n",
      "Epoch 2\n",
      "-------------------------------------\n",
      "size: 60000\n",
      "loss: 2.167321 [ Processed    64 images out of the total 60000 images ]\n",
      "loss: 2.135589 [ Processed  6464 images out of the total 60000 images ]\n",
      "loss: 2.144984 [ Processed 12864 images out of the total 60000 images ]\n",
      "loss: 2.096795 [ Processed 19264 images out of the total 60000 images ]\n",
      "loss: 2.066370 [ Processed 25664 images out of the total 60000 images ]\n",
      "loss: 2.025127 [ Processed 32064 images out of the total 60000 images ]\n",
      "loss: 2.035183 [ Processed 38464 images out of the total 60000 images ]\n",
      "loss: 1.976346 [ Processed 44864 images out of the total 60000 images ]\n",
      "loss: 1.899901 [ Processed 51264 images out of the total 60000 images ]\n",
      "loss: 1.926609 [ Processed 57664 images out of the total 60000 images ]\n",
      "Test Error: \n",
      " Accuracy: 54.4%, Avg loss: 1.8831367128214258 \n",
      "\n",
      "Epoch 3\n",
      "-------------------------------------\n",
      "size: 60000\n",
      "loss: 1.946610 [ Processed    64 images out of the total 60000 images ]\n",
      "loss: 1.874723 [ Processed  6464 images out of the total 60000 images ]\n",
      "loss: 1.818777 [ Processed 12864 images out of the total 60000 images ]\n",
      "loss: 1.797590 [ Processed 19264 images out of the total 60000 images ]\n",
      "loss: 1.721196 [ Processed 25664 images out of the total 60000 images ]\n",
      "loss: 1.659650 [ Processed 32064 images out of the total 60000 images ]\n",
      "loss: 1.596637 [ Processed 38464 images out of the total 60000 images ]\n",
      "loss: 1.572081 [ Processed 44864 images out of the total 60000 images ]\n",
      "loss: 1.607400 [ Processed 51264 images out of the total 60000 images ]\n",
      "loss: 1.512642 [ Processed 57664 images out of the total 60000 images ]\n",
      "Test Error: \n",
      " Accuracy: 59.9%, Avg loss: 1.5078504450002295 \n",
      "\n",
      "Epoch 4\n",
      "-------------------------------------\n",
      "size: 60000\n",
      "loss: 1.508465 [ Processed    64 images out of the total 60000 images ]\n",
      "loss: 1.484230 [ Processed  6464 images out of the total 60000 images ]\n",
      "loss: 1.376500 [ Processed 12864 images out of the total 60000 images ]\n",
      "loss: 1.401843 [ Processed 19264 images out of the total 60000 images ]\n",
      "loss: 1.303513 [ Processed 25664 images out of the total 60000 images ]\n",
      "loss: 1.327083 [ Processed 32064 images out of the total 60000 images ]\n",
      "loss: 1.314988 [ Processed 38464 images out of the total 60000 images ]\n",
      "loss: 1.336581 [ Processed 44864 images out of the total 60000 images ]\n",
      "loss: 1.330649 [ Processed 51264 images out of the total 60000 images ]\n",
      "loss: 1.217700 [ Processed 57664 images out of the total 60000 images ]\n",
      "Test Error: \n",
      " Accuracy: 63.6%, Avg loss: 1.2445351363746984 \n",
      "\n",
      "Epoch 5\n",
      "-------------------------------------\n",
      "size: 60000\n",
      "loss: 1.359275 [ Processed    64 images out of the total 60000 images ]\n",
      "loss: 1.197914 [ Processed  6464 images out of the total 60000 images ]\n",
      "loss: 1.217592 [ Processed 12864 images out of the total 60000 images ]\n",
      "loss: 1.286302 [ Processed 19264 images out of the total 60000 images ]\n",
      "loss: 1.159992 [ Processed 25664 images out of the total 60000 images ]\n",
      "loss: 1.259505 [ Processed 32064 images out of the total 60000 images ]\n",
      "loss: 1.142705 [ Processed 38464 images out of the total 60000 images ]\n",
      "loss: 1.129100 [ Processed 44864 images out of the total 60000 images ]\n",
      "loss: 1.039771 [ Processed 51264 images out of the total 60000 images ]\n",
      "loss: 0.993246 [ Processed 57664 images out of the total 60000 images ]\n",
      "Test Error: \n",
      " Accuracy: 63.7%, Avg loss: 1.0860004447827674 \n",
      "\n",
      "Epoch 6\n",
      "-------------------------------------\n",
      "size: 60000\n",
      "loss: 1.025971 [ Processed    64 images out of the total 60000 images ]\n",
      "loss: 1.236204 [ Processed  6464 images out of the total 60000 images ]\n",
      "loss: 1.075777 [ Processed 12864 images out of the total 60000 images ]\n",
      "loss: 1.085288 [ Processed 19264 images out of the total 60000 images ]\n",
      "loss: 1.061552 [ Processed 25664 images out of the total 60000 images ]\n",
      "loss: 1.103843 [ Processed 32064 images out of the total 60000 images ]\n",
      "loss: 1.115503 [ Processed 38464 images out of the total 60000 images ]\n",
      "loss: 1.149803 [ Processed 44864 images out of the total 60000 images ]\n",
      "loss: 0.993181 [ Processed 51264 images out of the total 60000 images ]\n",
      "loss: 0.872800 [ Processed 57664 images out of the total 60000 images ]\n",
      "Test Error: \n",
      " Accuracy: 65.7%, Avg loss: 0.9815110184584454 \n",
      "\n",
      "Epoch 7\n",
      "-------------------------------------\n",
      "size: 60000\n",
      "loss: 0.835560 [ Processed    64 images out of the total 60000 images ]\n",
      "loss: 0.982928 [ Processed  6464 images out of the total 60000 images ]\n",
      "loss: 1.055324 [ Processed 12864 images out of the total 60000 images ]\n",
      "loss: 0.931786 [ Processed 19264 images out of the total 60000 images ]\n",
      "loss: 1.060060 [ Processed 25664 images out of the total 60000 images ]\n",
      "loss: 0.952717 [ Processed 32064 images out of the total 60000 images ]\n",
      "loss: 1.034092 [ Processed 38464 images out of the total 60000 images ]\n",
      "loss: 0.874441 [ Processed 44864 images out of the total 60000 images ]\n",
      "loss: 0.918182 [ Processed 51264 images out of the total 60000 images ]\n",
      "loss: 1.010143 [ Processed 57664 images out of the total 60000 images ]\n",
      "Test Error: \n",
      " Accuracy: 66.6%, Avg loss: 0.9108020640482568 \n",
      "\n",
      "Epoch 8\n",
      "-------------------------------------\n",
      "size: 60000\n",
      "loss: 0.922089 [ Processed    64 images out of the total 60000 images ]\n",
      "loss: 0.937514 [ Processed  6464 images out of the total 60000 images ]\n",
      "loss: 0.826370 [ Processed 12864 images out of the total 60000 images ]\n",
      "loss: 0.850419 [ Processed 19264 images out of the total 60000 images ]\n",
      "loss: 0.883762 [ Processed 25664 images out of the total 60000 images ]\n",
      "loss: 0.803804 [ Processed 32064 images out of the total 60000 images ]\n",
      "loss: 0.811496 [ Processed 38464 images out of the total 60000 images ]\n",
      "loss: 0.952899 [ Processed 44864 images out of the total 60000 images ]\n",
      "loss: 0.793982 [ Processed 51264 images out of the total 60000 images ]\n",
      "loss: 0.848798 [ Processed 57664 images out of the total 60000 images ]\n",
      "Test Error: \n",
      " Accuracy: 67.9%, Avg loss: 0.8600409425747623 \n",
      "\n",
      "Epoch 9\n",
      "-------------------------------------\n",
      "size: 60000\n",
      "loss: 0.841380 [ Processed    64 images out of the total 60000 images ]\n",
      "loss: 0.806460 [ Processed  6464 images out of the total 60000 images ]\n",
      "loss: 0.762051 [ Processed 12864 images out of the total 60000 images ]\n",
      "loss: 0.869032 [ Processed 19264 images out of the total 60000 images ]\n",
      "loss: 0.938718 [ Processed 25664 images out of the total 60000 images ]\n",
      "loss: 0.779773 [ Processed 32064 images out of the total 60000 images ]\n",
      "loss: 0.751996 [ Processed 38464 images out of the total 60000 images ]\n",
      "loss: 0.694399 [ Processed 44864 images out of the total 60000 images ]\n",
      "loss: 0.694146 [ Processed 51264 images out of the total 60000 images ]\n",
      "loss: 0.823394 [ Processed 57664 images out of the total 60000 images ]\n",
      "Test Error: \n",
      " Accuracy: 69.1%, Avg loss: 0.8215183346134842 \n",
      "\n",
      "Epoch 10\n",
      "-------------------------------------\n",
      "size: 60000\n",
      "loss: 0.884589 [ Processed    64 images out of the total 60000 images ]\n",
      "loss: 0.824510 [ Processed  6464 images out of the total 60000 images ]\n",
      "loss: 0.715605 [ Processed 12864 images out of the total 60000 images ]\n",
      "loss: 0.899539 [ Processed 19264 images out of the total 60000 images ]\n",
      "loss: 0.716007 [ Processed 25664 images out of the total 60000 images ]\n",
      "loss: 0.828830 [ Processed 32064 images out of the total 60000 images ]\n",
      "loss: 0.721362 [ Processed 38464 images out of the total 60000 images ]\n",
      "loss: 0.745359 [ Processed 44864 images out of the total 60000 images ]\n",
      "loss: 0.716683 [ Processed 51264 images out of the total 60000 images ]\n",
      "loss: 0.762562 [ Processed 57664 images out of the total 60000 images ]\n",
      "Test Error: \n",
      " Accuracy: 70.5%, Avg loss: 0.789542977217656 \n",
      "\n",
      "Epoch 11\n",
      "-------------------------------------\n",
      "size: 60000\n",
      "loss: 0.750916 [ Processed    64 images out of the total 60000 images ]\n",
      "loss: 1.044948 [ Processed  6464 images out of the total 60000 images ]\n",
      "loss: 0.733018 [ Processed 12864 images out of the total 60000 images ]\n",
      "loss: 0.822487 [ Processed 19264 images out of the total 60000 images ]\n",
      "loss: 0.727645 [ Processed 25664 images out of the total 60000 images ]\n",
      "loss: 0.704037 [ Processed 32064 images out of the total 60000 images ]\n",
      "loss: 0.732153 [ Processed 38464 images out of the total 60000 images ]\n",
      "loss: 0.924712 [ Processed 44864 images out of the total 60000 images ]\n",
      "loss: 0.751219 [ Processed 51264 images out of the total 60000 images ]\n",
      "loss: 0.738482 [ Processed 57664 images out of the total 60000 images ]\n",
      "Test Error: \n",
      " Accuracy: 71.7%, Avg loss: 0.7643976215344326 \n",
      "\n",
      "Epoch 12\n",
      "-------------------------------------\n",
      "size: 60000\n",
      "loss: 0.843562 [ Processed    64 images out of the total 60000 images ]\n",
      "loss: 0.831555 [ Processed  6464 images out of the total 60000 images ]\n",
      "loss: 0.669502 [ Processed 12864 images out of the total 60000 images ]\n",
      "loss: 0.755084 [ Processed 19264 images out of the total 60000 images ]\n",
      "loss: 0.691966 [ Processed 25664 images out of the total 60000 images ]\n",
      "loss: 0.689085 [ Processed 32064 images out of the total 60000 images ]\n",
      "loss: 0.633606 [ Processed 38464 images out of the total 60000 images ]\n",
      "loss: 0.863694 [ Processed 44864 images out of the total 60000 images ]\n",
      "loss: 0.637347 [ Processed 51264 images out of the total 60000 images ]\n",
      "loss: 0.762239 [ Processed 57664 images out of the total 60000 images ]\n",
      "Test Error: \n",
      " Accuracy: 73.2%, Avg loss: 0.7443067446635787 \n",
      "\n",
      "Epoch 13\n",
      "-------------------------------------\n",
      "size: 60000\n",
      "loss: 0.621487 [ Processed    64 images out of the total 60000 images ]\n",
      "loss: 0.740587 [ Processed  6464 images out of the total 60000 images ]\n",
      "loss: 0.718449 [ Processed 12864 images out of the total 60000 images ]\n",
      "loss: 0.881947 [ Processed 19264 images out of the total 60000 images ]\n",
      "loss: 0.691277 [ Processed 25664 images out of the total 60000 images ]\n",
      "loss: 0.775250 [ Processed 32064 images out of the total 60000 images ]\n",
      "loss: 0.740826 [ Processed 38464 images out of the total 60000 images ]\n",
      "loss: 0.649848 [ Processed 44864 images out of the total 60000 images ]\n",
      "loss: 0.676686 [ Processed 51264 images out of the total 60000 images ]\n",
      "loss: 0.854865 [ Processed 57664 images out of the total 60000 images ]\n",
      "Test Error: \n",
      " Accuracy: 74.0%, Avg loss: 0.7218261397188637 \n",
      "\n",
      "Epoch 14\n",
      "-------------------------------------\n",
      "size: 60000\n",
      "loss: 0.810080 [ Processed    64 images out of the total 60000 images ]\n",
      "loss: 0.606359 [ Processed  6464 images out of the total 60000 images ]\n",
      "loss: 0.714389 [ Processed 12864 images out of the total 60000 images ]\n",
      "loss: 0.766571 [ Processed 19264 images out of the total 60000 images ]\n",
      "loss: 0.529309 [ Processed 25664 images out of the total 60000 images ]\n",
      "loss: 0.610787 [ Processed 32064 images out of the total 60000 images ]\n",
      "loss: 0.592257 [ Processed 38464 images out of the total 60000 images ]\n",
      "loss: 0.583278 [ Processed 44864 images out of the total 60000 images ]\n",
      "loss: 0.794793 [ Processed 51264 images out of the total 60000 images ]\n",
      "loss: 0.796332 [ Processed 57664 images out of the total 60000 images ]\n",
      "Test Error: \n",
      " Accuracy: 75.0%, Avg loss: 0.7061112697716732 \n",
      "\n",
      "Epoch 15\n",
      "-------------------------------------\n",
      "size: 60000\n",
      "loss: 0.638444 [ Processed    64 images out of the total 60000 images ]\n",
      "loss: 0.693361 [ Processed  6464 images out of the total 60000 images ]\n",
      "loss: 0.793200 [ Processed 12864 images out of the total 60000 images ]\n",
      "loss: 0.777358 [ Processed 19264 images out of the total 60000 images ]\n",
      "loss: 0.653279 [ Processed 25664 images out of the total 60000 images ]\n",
      "loss: 0.683072 [ Processed 32064 images out of the total 60000 images ]\n",
      "loss: 0.582169 [ Processed 38464 images out of the total 60000 images ]\n",
      "loss: 0.601734 [ Processed 44864 images out of the total 60000 images ]\n",
      "loss: 0.570836 [ Processed 51264 images out of the total 60000 images ]\n",
      "loss: 0.713585 [ Processed 57664 images out of the total 60000 images ]\n",
      "Test Error: \n",
      " Accuracy: 75.7%, Avg loss: 0.6878304037318868 \n",
      "\n",
      "We had 15 epochs. Done!\n"
     ]
    }
   ],
   "source": [
    "loss_fn = nn.CrossEntropyLoss()\n",
    "optimizer = torch.optim.SGD(model.parameters(), lr = learning_rate)\n",
    "\n",
    "epochs = 15\n",
    "for t in range(epochs):\n",
    "    print(f\"Epoch {t + 1}\\n-------------------------------------\")\n",
    "    train_loop(train_dataloader, model, loss_fn, optimizer)\n",
    "    test_loop(test_dataloader, model, loss_fn)\n",
    "print(f\"We had {epochs} epochs. Done!\")"
   ]
  },
  {
   "cell_type": "markdown",
   "id": "bd75c343-38bf-4494-b308-54229f13f808",
   "metadata": {},
   "source": [
    "Notice that with a CPU it takes quite some time to run the above. We can see a benefit of having using the Stochastic Gradient Descent, `torch.optim.SGD`.\n",
    "\n",
    "Notice also that the test accuracy increases for each epoch."
   ]
  },
  {
   "cell_type": "markdown",
   "id": "6361415c-21dd-4911-aa6c-29beb2649aae",
   "metadata": {},
   "source": [
    "## Saving the Model\n",
    "\n",
    "We now save our model. the learned parameters is internally stored in an internal state dictionary called `state_dict`.\n",
    "\n",
    "A `.pth` file is a common file extension used in PyTorch to save model weights or entire models."
   ]
  },
  {
   "cell_type": "code",
   "execution_count": 28,
   "id": "9c03343f-5793-4632-b33a-d5a2dfa3304a",
   "metadata": {},
   "outputs": [],
   "source": [
    "import torch\n",
    "import torchvision.models as models\n",
    "\n",
    "# save the model parameters by called torch.save\n",
    "torch.save(model.state_dict(), 'model_weights.pth')"
   ]
  },
  {
   "cell_type": "markdown",
   "id": "a4775435-ed19-4dcb-8ea2-d5c468c684f4",
   "metadata": {},
   "source": [
    "To load a model weight, we first create an instance of the same model first, and then load the parameters using `load_state_dict()` method."
   ]
  },
  {
   "cell_type": "code",
   "execution_count": 30,
   "id": "0fb6931d-1d0f-44d6-84f6-2fc09f6e6be2",
   "metadata": {},
   "outputs": [
    {
     "name": "stderr",
     "output_type": "stream",
     "text": [
      "C:\\Users\\srhee\\AppData\\Local\\Temp\\ipykernel_2508\\3151015651.py:4: FutureWarning: You are using `torch.load` with `weights_only=False` (the current default value), which uses the default pickle module implicitly. It is possible to construct malicious pickle data which will execute arbitrary code during unpickling (See https://github.com/pytorch/pytorch/blob/main/SECURITY.md#untrusted-models for more details). In a future release, the default value for `weights_only` will be flipped to `True`. This limits the functions that could be executed during unpickling. Arbitrary objects will no longer be allowed to be loaded via this mode unless they are explicitly allowlisted by the user via `torch.serialization.add_safe_globals`. We recommend you start setting `weights_only=True` for any use case where you don't have full control of the loaded file. Please open an issue on GitHub for any issues related to this experimental feature.\n",
      "  another_model.load_state_dict(torch.load('model_weights.pth'))\n"
     ]
    },
    {
     "data": {
      "text/plain": [
       "NeuralNetwork(\n",
       "  (flatten): Flatten(start_dim=1, end_dim=-1)\n",
       "  (linear_relu_stack): Sequential(\n",
       "    (0): Linear(in_features=784, out_features=512, bias=True)\n",
       "    (1): ReLU()\n",
       "    (2): Linear(in_features=512, out_features=512, bias=True)\n",
       "    (3): ReLU()\n",
       "    (4): Linear(in_features=512, out_features=10, bias=True)\n",
       "  )\n",
       ")"
      ]
     },
     "execution_count": 30,
     "metadata": {},
     "output_type": "execute_result"
    }
   ],
   "source": [
    "# initialize the same model structure. Notice that this model has untrained parameters\n",
    "another_model = NeuralNetwork().to(device)\n",
    "# loading the trained weights to our another_model\n",
    "another_model.load_state_dict(torch.load('model_weights.pth'))\n",
    "\n",
    "# for consistent inference results\n",
    "model.eval()"
   ]
  },
  {
   "cell_type": "markdown",
   "id": "af919c4c-7983-44c4-920b-e376d21bd44e",
   "metadata": {},
   "source": [
    "According to PyTorch guide: \"be sure to call `model.eval()` method before inferencing to set the dropout and batch normalization layers to evaluation mode. Failing to do this will yield inconsistent inference results.\""
   ]
  },
  {
   "cell_type": "markdown",
   "id": "27e349c7-4bcf-4f0a-8596-f6095405d2da",
   "metadata": {},
   "source": [
    "If we want to save not only the weights but also the model structure, we can pass the model directly to `torch.save` rather than the `model.state_dict`."
   ]
  },
  {
   "cell_type": "code",
   "execution_count": 31,
   "id": "63f60ba8-98bc-443d-bdf9-fa23006ca0d3",
   "metadata": {},
   "outputs": [
    {
     "name": "stderr",
     "output_type": "stream",
     "text": [
      "C:\\Users\\srhee\\AppData\\Local\\Temp\\ipykernel_2508\\3616403566.py:5: FutureWarning: You are using `torch.load` with `weights_only=False` (the current default value), which uses the default pickle module implicitly. It is possible to construct malicious pickle data which will execute arbitrary code during unpickling (See https://github.com/pytorch/pytorch/blob/main/SECURITY.md#untrusted-models for more details). In a future release, the default value for `weights_only` will be flipped to `True`. This limits the functions that could be executed during unpickling. Arbitrary objects will no longer be allowed to be loaded via this mode unless they are explicitly allowlisted by the user via `torch.serialization.add_safe_globals`. We recommend you start setting `weights_only=True` for any use case where you don't have full control of the loaded file. Please open an issue on GitHub for any issues related to this experimental feature.\n",
      "  yet_another_model = torch.load('model.pth')\n"
     ]
    }
   ],
   "source": [
    "# save the model structure *and* the model parameter\n",
    "torch.save(model, 'model.pth')\n",
    "\n",
    "# if we want to load the model, we can do like this\n",
    "yet_another_model = torch.load('model.pth')"
   ]
  },
  {
   "cell_type": "markdown",
   "id": "c0666976-7973-4a49-8c5f-259cb2793b2f",
   "metadata": {},
   "source": [
    "Thank you for reading! All the above *very closely* follows the [PyTorch Learn the Basics guide](https://pytorch.org/tutorials/beginner/basics/intro.html). More information about this can be found in the link."
   ]
  }
 ],
 "metadata": {
  "kernelspec": {
   "display_name": "Python 3 (ipykernel)",
   "language": "python",
   "name": "python3"
  },
  "language_info": {
   "codemirror_mode": {
    "name": "ipython",
    "version": 3
   },
   "file_extension": ".py",
   "mimetype": "text/x-python",
   "name": "python",
   "nbconvert_exporter": "python",
   "pygments_lexer": "ipython3",
   "version": "3.11.7"
  }
 },
 "nbformat": 4,
 "nbformat_minor": 5
}
